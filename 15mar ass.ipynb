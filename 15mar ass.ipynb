{
 "cells": [
  {
   "cell_type": "code",
   "execution_count": null,
   "id": "9687e122-f837-4913-8410-d9232f823677",
   "metadata": {},
   "outputs": [],
   "source": [
    "QD- E=plain thK followin* with an K=amplK-F\n",
    "C) Artificial IntKlli*KncJ\n",
    "<) MachinK LKarnin,\n",
    "I) Deep Learning"
   ]
  },
  {
   "cell_type": "code",
   "execution_count": null,
   "id": "4fcfe3e7-0005-4c0d-a2a7-3260db638e0c",
   "metadata": {},
   "outputs": [],
   "source": [
    "Artificial Intelligence (AI):\n",
    "\n",
    "Definition: AI refers to the development of computer systems that can perform tasks that typically require human intelligence.\n",
    "It involves creating algorithms and systems that can mimic certain aspects of human cognition.\n",
    "\n",
    "Machine Learning (ML):\n",
    "\n",
    "Definition: ML is a subset of AI that focuses on developing algorithms that enable computers to learn from data. Instead of being explicitly programmed, these algorithms improve their performance over time based on the patterns they discover in data.\n",
    "Example: ML is used in tasks like predicting stock prices, recommending movies, or identifying spam emails.\n",
    "Deep Learning (DL):\n",
    "\n",
    "Definition: DL is a specialized form of ML that involves neural networks with many layers (deep neural networks). It aims to automatically learn hierarchical representations of data and is particularly effective for tasks like image and speech recognition.\n",
    "Example: DL is used in facial recognition software, language translation, and autonomous vehicles."
   ]
  },
  {
   "cell_type": "code",
   "execution_count": null,
   "id": "b1564772-f92e-48ac-baa7-7e6a651737a8",
   "metadata": {},
   "outputs": [],
   "source": [
    "Q2- What is supervised learnin*? List some examples of supervised learnin*."
   ]
  },
  {
   "cell_type": "code",
   "execution_count": null,
   "id": "ca5ac9e5-7d56-4f1a-9ffe-23593117d985",
   "metadata": {},
   "outputs": [],
   "source": [
    "Supervised Learning:\n",
    "\n",
    "Definition: In supervised learning, the algorithm is trained on a labeled dataset, where each input is associated with a corresponding output. The model learns to map the inputs to the correct outputs based on the provided examples.\n",
    "Example: Classifying emails as spam or not spam based on a labeled dataset of emails.\n",
    "\n",
    "supervised Learning:\n",
    "\n",
    "Imagine you have a teacher guiding you. The teacher shows you examples of problems and tells you the answers. \n",
    "You learn to solve similar problems by looking at those examples."
   ]
  },
  {
   "cell_type": "code",
   "execution_count": null,
   "id": "c4d2b97c-9785-455e-872b-aedb868e7a24",
   "metadata": {},
   "outputs": [],
   "source": [
    "Q3- What is unsupervisd learning? List some examples of unsupervised learnin*."
   ]
  },
  {
   "cell_type": "code",
   "execution_count": null,
   "id": "22ee2dbb-83b2-4bcb-9bb9-ea74e1e27d5d",
   "metadata": {},
   "outputs": [],
   "source": [
    "Unsupervised Learning:\n",
    "\n",
    "Definition: Unsupervised learning involves training a model on an unlabeled dataset. The algorithm aims to discover patterns, structures, or relationships within the data without explicit guidance in the form of labeled outputs.\n",
    "Example: Clustering similar customer behavior in an e-commerce dataset without prior labels."
   ]
  },
  {
   "cell_type": "code",
   "execution_count": null,
   "id": "111ebee1-276d-4bea-a3fc-4bfaf3aee555",
   "metadata": {},
   "outputs": [],
   "source": [
    "Q4- What is the difference between AI, ML, DL, and DS?"
   ]
  },
  {
   "cell_type": "code",
   "execution_count": null,
   "id": "785d0fc1-9703-4069-b914-aae0a374e1c7",
   "metadata": {},
   "outputs": [],
   "source": [
    "AI is the overarching concept of creating intelligent machines.\n",
    "ML is a subset of AI that focuses on algorithms learning from data.\n",
    "DL is a specialized form of ML using deep neural networks for advanced pattern recognition.\n",
    "DS is a broader field that involves extracting insights and knowledge from data, often incorporating ML techniques as part of the process."
   ]
  },
  {
   "cell_type": "code",
   "execution_count": null,
   "id": "7822988f-49fa-4e26-97db-fe6455326deb",
   "metadata": {},
   "outputs": [],
   "source": [
    "Q5- What are the main diffrencs between supervisedd, unsupKrvisKd, and sKmi-supKrvisKd lKarnin*?"
   ]
  },
  {
   "cell_type": "code",
   "execution_count": null,
   "id": "c1cd025d-cf92-464d-8fe9-16e7271ef673",
   "metadata": {},
   "outputs": [],
   "source": [
    "Supervised Learning:\n",
    "\n",
    "Definition: In supervised learning, the algorithm is trained on a labeled dataset, where each input is associated with a corresponding output. The model learns to map the inputs to the correct outputs based on the provided examples.\n",
    "Example: Classifying emails as spam or not spam based on a labeled dataset of emails.\n",
    "Unsupervised Learning:\n",
    "\n",
    "Definition: Unsupervised learning involves training a model on an unlabeled dataset. The algorithm aims to discover patterns, structures, or relationships within the data without explicit guidance in the form of labeled outputs.\n",
    "Example: Clustering similar customer behavior in an e-commerce dataset without prior labels.\n",
    "Semi-Supervised Learning:\n",
    "\n",
    "Definition: Semi-supervised learning is a combination of supervised and unsupervised learning. It uses a dataset that contains both labeled and unlabeled examples. The model is trained on the labeled data and uses the unlabeled data to improve its understanding of the underlying structure.\n",
    "Example: Training a model to identify images of cats and dogs using a dataset with some labeled images and a larger set of unlabeled images.\n",
    "Reinforcement Learning:\n",
    "\n",
    "Definition: Reinforcement learning involves an agent learning to make decisions by interacting with an environment. The agent receives feedback in the form of rewards or punishments based on the actions it takes, and its objective is to learn a policy that maximizes the cumulative reward over time.\n",
    "Example: Training a computer program to play a game by learning from trial and error, receiving rewards for successful moves and penalties for mistakes."
   ]
  },
  {
   "cell_type": "code",
   "execution_count": null,
   "id": "51a3ddb2-bb8c-41d9-b43b-c5958f721e0e",
   "metadata": {},
   "outputs": [],
   "source": [
    "Q6- What is train, test and validation split? Explain the importance of each term."
   ]
  },
  {
   "cell_type": "code",
   "execution_count": null,
   "id": "c661b443-412e-4913-9196-e89deb761200",
   "metadata": {},
   "outputs": [],
   "source": [
    "Training Data:\n",
    "\n",
    "Definition: This is the set of examples that the machine learning model learns from. It's like giving a student a set of problems and their solutions to study.\n",
    "Analogy: Imagine a teacher showing a student many math problems along with the correct answers. The student learns by practicing with these examples.\n",
    "Testing Data:\n",
    "\n",
    "Definition: After the model has learned from the training data, it needs to be tested on a new set of examples it has never seen before. This helps to check how well the model can generalize to new, unseen situations.\n",
    "Analogy: Now, the student is given a set of new math problems (different from the ones in training) to solve without knowing the answers. This tests how well the student learned and can apply the knowledge to new problems.\n",
    "Validation Data:\n",
    "\n",
    "Definition: In addition to training and testing, there's often a third set called validation data. This set is used during the training phase to fine-tune the model's parameters and prevent overfitting (when the model becomes too specialized to the training data).\n",
    "Analogy: While the student is learning, the teacher might provide some additional problems with known solutions for practice. The teacher watches how well the student is doing on these extra problems to ensure they're really understanding the concepts."
   ]
  },
  {
   "cell_type": "code",
   "execution_count": null,
   "id": "a36e8805-575f-4d08-946a-561be9213148",
   "metadata": {},
   "outputs": [],
   "source": [
    "Q7- How can unsupervised learning be used in anomaly dKtection?"
   ]
  },
  {
   "cell_type": "code",
   "execution_count": null,
   "id": "acc61a30-5879-4504-98b1-a164e0e96f40",
   "metadata": {},
   "outputs": [],
   "source": []
  }
 ],
 "metadata": {
  "kernelspec": {
   "display_name": "Python 3 (ipykernel)",
   "language": "python",
   "name": "python3"
  },
  "language_info": {
   "codemirror_mode": {
    "name": "ipython",
    "version": 3
   },
   "file_extension": ".py",
   "mimetype": "text/x-python",
   "name": "python",
   "nbconvert_exporter": "python",
   "pygments_lexer": "ipython3",
   "version": "3.10.8"
  }
 },
 "nbformat": 4,
 "nbformat_minor": 5
}
